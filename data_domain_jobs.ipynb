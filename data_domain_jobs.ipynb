{
 "cells": [
  {
   "cell_type": "code",
   "execution_count": 79,
   "id": "cc6fd94f-9100-49a7-9f71-9c4dae891d8a",
   "metadata": {},
   "outputs": [
    {
     "name": "stdout",
     "output_type": "stream",
     "text": [
      "Requirement already satisfied: pyodbc in c:\\anaconda3\\lib\\site-packages (5.1.0)\n",
      "Note: you may need to restart the kernel to use updated packages.\n"
     ]
    }
   ],
   "source": [
    "pip install pyodbc\n"
   ]
  },
  {
   "cell_type": "code",
   "execution_count": 80,
   "id": "c9627b22-805c-458f-b525-4ef97f53c391",
   "metadata": {},
   "outputs": [],
   "source": [
    "import numpy as np\n",
    "import pandas as pd\n",
    "import pyodbc\n",
    "#CREATE A CONNECTION TO MY DATABASE\n",
    "server = r'vk18\\SQLEXPRESS'\n",
    "database= 'campusx'"
   ]
  },
  {
   "cell_type": "code",
   "execution_count": 81,
   "id": "889d526f-dc0a-4bc7-a918-4fd6dfd41346",
   "metadata": {},
   "outputs": [],
   "source": [
    "#TABLES_NAME\n",
    "table_names = ['company_dim2csv','job_postings_fact2','skills_dim2csv','skills_job_dim']\n",
    "#CONNECTION STRING\n",
    "conn_str = conn_str=f\"DRIVER={{SQL Server}};SERVER={server};DATABASE={database};Trusted_Connection=yes;\"\n"
   ]
  },
  {
   "cell_type": "code",
   "execution_count": 82,
   "id": "d2772537-6ea2-4e63-abb4-8d22cf017e63",
   "metadata": {},
   "outputs": [
    {
     "name": "stdout",
     "output_type": "stream",
     "text": [
      "Connection Successfull\n"
     ]
    },
    {
     "name": "stderr",
     "output_type": "stream",
     "text": [
      "C:\\Users\\hp\\AppData\\Local\\Temp\\ipykernel_14740\\3628212168.py:10: UserWarning: pandas only supports SQLAlchemy connectable (engine/connection) or database string URI or sqlite3 DBAPI2 connection. Other DBAPI2 objects are not tested. Please consider using SQLAlchemy.\n",
      "  df= pd.read_sql(query,conn)\n"
     ]
    }
   ],
   "source": [
    "#CONNECT TO MS-SQL SERVER\n",
    "conn= pyodbc.connect(conn_str)\n",
    "print(\"Connection Successfull\")\n",
    "\n",
    "#DICTIONARY TO STORE ALL THE TABLES\n",
    "dataframes= {}\n",
    "\n",
    "for table_name in table_names:\n",
    "    query= f\"Select * from {table_name}\"\n",
    "    df= pd.read_sql(query,conn)\n",
    "    dataframes[table_name]= df\n",
    "\n",
    "conn.close()"
   ]
  },
  {
   "cell_type": "code",
   "execution_count": 83,
   "id": "64649714-cac1-4260-8718-5de6384b3fb6",
   "metadata": {},
   "outputs": [],
   "source": [
    "company= dataframes['company_dim2csv']\n",
    "Job_posting= dataframes['job_postings_fact2']\n",
    "skill_id = dataframes['skills_job_dim']\n",
    "skills = dataframes['skills_dim2csv']"
   ]
  },
  {
   "cell_type": "code",
   "execution_count": 84,
   "id": "9f90884a-9c69-40d1-8e2d-213a5e63701c",
   "metadata": {},
   "outputs": [],
   "source": [
    "merge = pd.merge(company, Job_posting, on=\"company_id\", how= \"left\")"
   ]
  },
  {
   "cell_type": "code",
   "execution_count": 85,
   "id": "d0e64ca2-be79-45bc-95df-b01bca462120",
   "metadata": {},
   "outputs": [],
   "source": [
    "merge = pd.merge(merge, skill_id, on=\"job_id\", how= \"left\")"
   ]
  },
  {
   "cell_type": "code",
   "execution_count": 86,
   "id": "b87e99e4-34c2-4a3b-855d-35da96e771d6",
   "metadata": {},
   "outputs": [],
   "source": [
    "merge = pd.merge(merge, skills, on=\"skill_id\", how= \"left\")"
   ]
  },
  {
   "cell_type": "code",
   "execution_count": 87,
   "id": "a15ec0d2-6e2c-44bd-880d-2ad8d593bbcc",
   "metadata": {},
   "outputs": [
    {
     "data": {
      "text/plain": [
       "Index(['company_id', 'name', 'link', 'link_google', 'thumbnail', 'job_id',\n",
       "       'job_title_short', 'job_title', 'job_location', 'job_via',\n",
       "       'job_schedule_type', 'job_work_from_home', 'search_location',\n",
       "       'job_posted_date', 'job_no_degree_mention', 'job_health_insurance',\n",
       "       'job_country', 'salary_rate', 'salary_year_avg', 'salary_hour_avg',\n",
       "       'skill_id', 'skills', 'type'],\n",
       "      dtype='object')"
      ]
     },
     "execution_count": 87,
     "metadata": {},
     "output_type": "execute_result"
    }
   ],
   "source": [
    "merge.columns"
   ]
  },
  {
   "cell_type": "code",
   "execution_count": 88,
   "id": "c4acf905-97ca-401a-849f-3a036e51f6ae",
   "metadata": {},
   "outputs": [],
   "source": [
    "columns_to_be_dropped = ['link', 'link_google', 'thumbnail','job_via','job_no_degree_mention', 'job_health_insurance',\n",
    "       'job_country', 'salary_rate', 'salary_year_avg', 'salary_hour_avg',\n",
    "       'skill_id','type']"
   ]
  },
  {
   "cell_type": "code",
   "execution_count": 89,
   "id": "03031f12-5963-4133-8b4a-74208bc76523",
   "metadata": {},
   "outputs": [
    {
     "data": {
      "text/plain": [
       "Index(['company_id', 'name', 'job_id', 'job_title_short', 'job_title',\n",
       "       'job_location', 'job_schedule_type', 'job_work_from_home',\n",
       "       'search_location', 'job_posted_date', 'skills'],\n",
       "      dtype='object')"
      ]
     },
     "execution_count": 89,
     "metadata": {},
     "output_type": "execute_result"
    }
   ],
   "source": [
    "merge.drop(columns=columns_to_be_dropped,inplace=True)\n",
    "merge.columns"
   ]
  },
  {
   "cell_type": "code",
   "execution_count": 90,
   "id": "c192f25f-2e9c-4f77-b169-f538e8d842b6",
   "metadata": {},
   "outputs": [],
   "source": [
    "merge['skills']= merge['skills'].fillna('').astype(str)"
   ]
  },
  {
   "cell_type": "code",
   "execution_count": 91,
   "id": "aa92a393-0d24-4b41-ba45-377af31f90c3",
   "metadata": {},
   "outputs": [],
   "source": [
    "final_dataframe = merge.groupby(['company_id', 'name', 'job_id', 'job_title_short', 'job_title',\n",
    "       'job_location', 'job_schedule_type', 'job_work_from_home',\n",
    "       'search_location', 'job_posted_date'])['skills'].agg(','.join).reset_index()"
   ]
  },
  {
   "cell_type": "code",
   "execution_count": 92,
   "id": "51f623d6-8e84-443d-9b96-6ec105415847",
   "metadata": {},
   "outputs": [
    {
     "data": {
      "text/html": [
       "<div>\n",
       "<style scoped>\n",
       "    .dataframe tbody tr th:only-of-type {\n",
       "        vertical-align: middle;\n",
       "    }\n",
       "\n",
       "    .dataframe tbody tr th {\n",
       "        vertical-align: top;\n",
       "    }\n",
       "\n",
       "    .dataframe thead th {\n",
       "        text-align: right;\n",
       "    }\n",
       "</style>\n",
       "<table border=\"1\" class=\"dataframe\">\n",
       "  <thead>\n",
       "    <tr style=\"text-align: right;\">\n",
       "      <th></th>\n",
       "      <th>company_id</th>\n",
       "      <th>name</th>\n",
       "      <th>job_id</th>\n",
       "      <th>job_title_short</th>\n",
       "      <th>job_title</th>\n",
       "      <th>job_location</th>\n",
       "      <th>job_schedule_type</th>\n",
       "      <th>job_work_from_home</th>\n",
       "      <th>search_location</th>\n",
       "      <th>job_posted_date</th>\n",
       "      <th>skills</th>\n",
       "    </tr>\n",
       "  </thead>\n",
       "  <tbody>\n",
       "    <tr>\n",
       "      <th>0</th>\n",
       "      <td>0</td>\n",
       "      <td>Cryptology</td>\n",
       "      <td>0</td>\n",
       "      <td>Data Analyst</td>\n",
       "      <td>Marketing Data Analyst</td>\n",
       "      <td>Anywhere</td>\n",
       "      <td>Full-time</td>\n",
       "      <td>True</td>\n",
       "      <td>Serbia</td>\n",
       "      <td>2023-09-25 17:46:06.0000000</td>\n",
       "      <td>sql,python</td>\n",
       "    </tr>\n",
       "    <tr>\n",
       "      <th>1</th>\n",
       "      <td>0</td>\n",
       "      <td>Cryptology</td>\n",
       "      <td>1695656</td>\n",
       "      <td>Data Analyst</td>\n",
       "      <td>Marketing Data Analyst</td>\n",
       "      <td>Anywhere</td>\n",
       "      <td>Full-time</td>\n",
       "      <td>True</td>\n",
       "      <td>United Kingdom</td>\n",
       "      <td>2023-09-25 18:11:19.0000000</td>\n",
       "      <td></td>\n",
       "    </tr>\n",
       "    <tr>\n",
       "      <th>2</th>\n",
       "      <td>0</td>\n",
       "      <td>Cryptology</td>\n",
       "      <td>1819517</td>\n",
       "      <td>Data Analyst</td>\n",
       "      <td>Marketing Data Analyst</td>\n",
       "      <td>Madrid, Spain</td>\n",
       "      <td>Full-time</td>\n",
       "      <td>False</td>\n",
       "      <td>Spain</td>\n",
       "      <td>2023-10-10 10:32:19.0000000</td>\n",
       "      <td>sql,python</td>\n",
       "    </tr>\n",
       "    <tr>\n",
       "      <th>3</th>\n",
       "      <td>0</td>\n",
       "      <td>Cryptology</td>\n",
       "      <td>923232</td>\n",
       "      <td>Data Analyst</td>\n",
       "      <td>Marketing Data Analyst</td>\n",
       "      <td>Anywhere</td>\n",
       "      <td>Full-time</td>\n",
       "      <td>True</td>\n",
       "      <td>Spain</td>\n",
       "      <td>2023-09-25 17:51:21.0000000</td>\n",
       "      <td>sql,python</td>\n",
       "    </tr>\n",
       "    <tr>\n",
       "      <th>4</th>\n",
       "      <td>1</td>\n",
       "      <td>Edraak</td>\n",
       "      <td>426775</td>\n",
       "      <td>Cloud Engineer</td>\n",
       "      <td>Virtualization Engineer</td>\n",
       "      <td>Kuwait City, Kuwait</td>\n",
       "      <td>Full-time</td>\n",
       "      <td>False</td>\n",
       "      <td>Kuwait</td>\n",
       "      <td>2023-06-06 17:35:59.0000000</td>\n",
       "      <td></td>\n",
       "    </tr>\n",
       "    <tr>\n",
       "      <th>...</th>\n",
       "      <td>...</td>\n",
       "      <td>...</td>\n",
       "      <td>...</td>\n",
       "      <td>...</td>\n",
       "      <td>...</td>\n",
       "      <td>...</td>\n",
       "      <td>...</td>\n",
       "      <td>...</td>\n",
       "      <td>...</td>\n",
       "      <td>...</td>\n",
       "      <td>...</td>\n",
       "    </tr>\n",
       "    <tr>\n",
       "      <th>773931</th>\n",
       "      <td>99997</td>\n",
       "      <td>1st Source Bank</td>\n",
       "      <td>1035725</td>\n",
       "      <td>Data Analyst</td>\n",
       "      <td>Business Data Analyst II, Loan Operations, Sou...</td>\n",
       "      <td>South Bend, IN</td>\n",
       "      <td>Full-time</td>\n",
       "      <td>False</td>\n",
       "      <td>Illinois, United States</td>\n",
       "      <td>2023-04-26 21:03:09.0000000</td>\n",
       "      <td>c</td>\n",
       "    </tr>\n",
       "    <tr>\n",
       "      <th>773932</th>\n",
       "      <td>99997</td>\n",
       "      <td>1st Source Bank</td>\n",
       "      <td>970738</td>\n",
       "      <td>Data Analyst</td>\n",
       "      <td>Credit Business Data Analyst I, South Bend, IN</td>\n",
       "      <td>South Bend, IN</td>\n",
       "      <td>Full-time</td>\n",
       "      <td>False</td>\n",
       "      <td>Illinois, United States</td>\n",
       "      <td>2023-01-14 02:04:10.0000000</td>\n",
       "      <td></td>\n",
       "    </tr>\n",
       "    <tr>\n",
       "      <th>773933</th>\n",
       "      <td>99999</td>\n",
       "      <td>Iceland</td>\n",
       "      <td>1033637</td>\n",
       "      <td>Senior Data Analyst</td>\n",
       "      <td>Senior Customer Data Analyst. Job in Deeside M...</td>\n",
       "      <td>Deeside, UK</td>\n",
       "      <td>Full-time</td>\n",
       "      <td>False</td>\n",
       "      <td>United Kingdom</td>\n",
       "      <td>2023-03-15 10:13:59.0000000</td>\n",
       "      <td>sql</td>\n",
       "    </tr>\n",
       "    <tr>\n",
       "      <th>773934</th>\n",
       "      <td>99999</td>\n",
       "      <td>Iceland</td>\n",
       "      <td>1035909</td>\n",
       "      <td>Business Analyst</td>\n",
       "      <td>Junior Business Analyst</td>\n",
       "      <td>Austria</td>\n",
       "      <td>Full-time</td>\n",
       "      <td>False</td>\n",
       "      <td>Austria</td>\n",
       "      <td>2023-10-08 21:43:02.0000000</td>\n",
       "      <td></td>\n",
       "    </tr>\n",
       "    <tr>\n",
       "      <th>773935</th>\n",
       "      <td>99999</td>\n",
       "      <td>Iceland</td>\n",
       "      <td>642276</td>\n",
       "      <td>Senior Data Analyst</td>\n",
       "      <td>Senior Customer Data Analyst</td>\n",
       "      <td>Deeside, UK</td>\n",
       "      <td>Full-time</td>\n",
       "      <td>False</td>\n",
       "      <td>United Kingdom</td>\n",
       "      <td>2023-03-30 15:15:20.0000000</td>\n",
       "      <td>sql</td>\n",
       "    </tr>\n",
       "  </tbody>\n",
       "</table>\n",
       "<p>773936 rows × 11 columns</p>\n",
       "</div>"
      ],
      "text/plain": [
       "       company_id             name   job_id      job_title_short  \\\n",
       "0               0       Cryptology        0         Data Analyst   \n",
       "1               0       Cryptology  1695656         Data Analyst   \n",
       "2               0       Cryptology  1819517         Data Analyst   \n",
       "3               0       Cryptology   923232         Data Analyst   \n",
       "4               1           Edraak   426775       Cloud Engineer   \n",
       "...           ...              ...      ...                  ...   \n",
       "773931      99997  1st Source Bank  1035725         Data Analyst   \n",
       "773932      99997  1st Source Bank   970738         Data Analyst   \n",
       "773933      99999          Iceland  1033637  Senior Data Analyst   \n",
       "773934      99999          Iceland  1035909     Business Analyst   \n",
       "773935      99999          Iceland   642276  Senior Data Analyst   \n",
       "\n",
       "                                                job_title  \\\n",
       "0                                  Marketing Data Analyst   \n",
       "1                                  Marketing Data Analyst   \n",
       "2                                  Marketing Data Analyst   \n",
       "3                                  Marketing Data Analyst   \n",
       "4                                 Virtualization Engineer   \n",
       "...                                                   ...   \n",
       "773931  Business Data Analyst II, Loan Operations, Sou...   \n",
       "773932     Credit Business Data Analyst I, South Bend, IN   \n",
       "773933  Senior Customer Data Analyst. Job in Deeside M...   \n",
       "773934                            Junior Business Analyst   \n",
       "773935                       Senior Customer Data Analyst   \n",
       "\n",
       "               job_location job_schedule_type job_work_from_home  \\\n",
       "0                  Anywhere         Full-time               True   \n",
       "1                  Anywhere         Full-time               True   \n",
       "2             Madrid, Spain         Full-time              False   \n",
       "3                  Anywhere         Full-time               True   \n",
       "4       Kuwait City, Kuwait         Full-time              False   \n",
       "...                     ...               ...                ...   \n",
       "773931       South Bend, IN         Full-time              False   \n",
       "773932       South Bend, IN         Full-time              False   \n",
       "773933          Deeside, UK         Full-time              False   \n",
       "773934              Austria         Full-time              False   \n",
       "773935          Deeside, UK         Full-time              False   \n",
       "\n",
       "                search_location              job_posted_date      skills  \n",
       "0                        Serbia  2023-09-25 17:46:06.0000000  sql,python  \n",
       "1                United Kingdom  2023-09-25 18:11:19.0000000              \n",
       "2                         Spain  2023-10-10 10:32:19.0000000  sql,python  \n",
       "3                         Spain  2023-09-25 17:51:21.0000000  sql,python  \n",
       "4                        Kuwait  2023-06-06 17:35:59.0000000              \n",
       "...                         ...                          ...         ...  \n",
       "773931  Illinois, United States  2023-04-26 21:03:09.0000000           c  \n",
       "773932  Illinois, United States  2023-01-14 02:04:10.0000000              \n",
       "773933           United Kingdom  2023-03-15 10:13:59.0000000         sql  \n",
       "773934                  Austria  2023-10-08 21:43:02.0000000              \n",
       "773935           United Kingdom  2023-03-30 15:15:20.0000000         sql  \n",
       "\n",
       "[773936 rows x 11 columns]"
      ]
     },
     "execution_count": 92,
     "metadata": {},
     "output_type": "execute_result"
    }
   ],
   "source": [
    "final_dataframe"
   ]
  },
  {
   "cell_type": "code",
   "execution_count": null,
   "id": "6b5b6574-7d73-4eaa-8840-533ee411e559",
   "metadata": {},
   "outputs": [],
   "source": []
  }
 ],
 "metadata": {
  "kernelspec": {
   "display_name": "Python 3 (ipykernel)",
   "language": "python",
   "name": "python3"
  },
  "language_info": {
   "codemirror_mode": {
    "name": "ipython",
    "version": 3
   },
   "file_extension": ".py",
   "mimetype": "text/x-python",
   "name": "python",
   "nbconvert_exporter": "python",
   "pygments_lexer": "ipython3",
   "version": "3.12.7"
  }
 },
 "nbformat": 4,
 "nbformat_minor": 5
}
